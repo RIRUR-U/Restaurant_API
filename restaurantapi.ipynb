{
  "nbformat": 4,
  "nbformat_minor": 0,
  "metadata": {
    "colab": {
      "name": "restaurantapi.ipynb",
      "provenance": [],
      "collapsed_sections": []
    },
    "kernelspec": {
      "name": "python3",
      "display_name": "Python 3"
    },
    "language_info": {
      "name": "python"
    }
  },
  "cells": [
    {
      "cell_type": "code",
      "source": [
        "pip install python-google-places"
      ],
      "metadata": {
        "colab": {
          "base_uri": "https://localhost:8080/"
        },
        "id": "QFY_GZF9yxv3",
        "outputId": "2dee169e-d714-4484-9e69-150de597a98b"
      },
      "execution_count": 1,
      "outputs": [
        {
          "output_type": "stream",
          "name": "stdout",
          "text": [
            "Collecting python-google-places\n",
            "  Downloading python-google-places-1.4.2.tar.gz (12 kB)\n",
            "Requirement already satisfied: six in /usr/local/lib/python3.7/dist-packages (from python-google-places) (1.15.0)\n",
            "Building wheels for collected packages: python-google-places\n",
            "  Building wheel for python-google-places (setup.py) ... \u001b[?25l\u001b[?25hdone\n",
            "  Created wheel for python-google-places: filename=python_google_places-1.4.2-py3-none-any.whl size=13606 sha256=b81d90caeef85c6064478218de7b3bd03605aaf6bca99e0eac929023716a94c0\n",
            "  Stored in directory: /root/.cache/pip/wheels/e6/1b/c7/bcaf3c3822813b8b3d621e1b853a25db9788d9eb00e702af4e\n",
            "Successfully built python-google-places\n",
            "Installing collected packages: python-google-places\n",
            "Successfully installed python-google-places-1.4.2\n"
          ]
        }
      ]
    },
    {
      "cell_type": "code",
      "source": [
        "import pandas as pd, numpy as np\n",
        "import requests\n",
        "import json\n",
        "import time\n",
        "\n",
        "from googleplaces import GooglePlaces, types, lang\n",
        "\n",
        "API_KEY = 'abcdefghijklmn'\n",
        "\n",
        "google_places = GooglePlaces(API_KEY)\n",
        "\n",
        "query_result = google_places.nearby_search(location='Bangladesh', keyword='Restaurants', lat_lng={'lat': 23.7104000, 'lng': 90.4074400},\n",
        "                                           radius=50000, types=[types.TYPE_RESTAURANT])\n",
        "\n",
        "if query_result.has_attributions:\n",
        "    print (query_result.html_attributions)\n",
        "\n",
        "\n",
        "for place in query_result.places:\n",
        "     place.get_details()\n",
        "     print (place.rating) \n",
        "     \n",
        "     print (place.name)\n",
        "     print (place.geo_location)\n",
        "     print (place.place_id)\n",
        "     \n",
        "\n",
        "    \n",
        "     place.get_details()\n",
        "   \n",
        "     print (place.details) \n",
        "     print (place.url)\n",
        "     "
      ],
      "metadata": {
        "id": "kHO2YlYoTI7Q"
      },
      "execution_count": null,
      "outputs": []
    },
    {
      "cell_type": "code",
      "source": [
        "import pandas as pd, numpy as np\n",
        "import requests\n",
        "import json\n",
        "import time\n",
        "final_data = []\n",
        "\n",
        "\n",
        "from googleplaces import GooglePlaces, types, lang\n",
        "\n",
        "API_KEY = 'abcdefghijklmn' #Enter API_KEY\n",
        "\n",
        "\n",
        "query_result = google_places.nearby_search(location='Dhaka', keyword='Restaurants', lat_lng={'lat': 23.7104000, 'lng': 90.4074400},radius=50000, types=[types.TYPE_RESTAURANT])\n",
        "\n",
        "\n",
        "if query_result.has_attributions:\n",
        "    print (query_result.html_attributions)\n",
        "\n",
        "\n",
        "for place in query_result.places:\n",
        "    name = place.name\n",
        "    place_id = place.place_id\n",
        "   \n",
        "    rating = place.rating\n",
        "    types = place.types\n",
        "    location=place.geo_location\n",
        "    details= place.get_details\n",
        "    #print (place.rating) \n",
        "     \n",
        "    #print (place.name)\n",
        "    #print (place.geo_location)\n",
        "    #print (place.place_id)\n",
        "\n",
        "    \n",
        "    place.get_details()\n",
        "    add={}\n",
        "    add=place.geo_location\n",
        "    lat=add[\"lat\"]\n",
        "    lng=add[\"lng\"]\n",
        "    g_map=place.url\n",
        "    #print(lat)\n",
        "    #print(lng)\n",
        "    \n",
        "    #print (place.details) # A dict matching the JSON response from Google.\n",
        "    #print (place.url)\n",
        "    \n",
        "    \n",
        "    data = [name, place_id,lat,lng, rating, types,g_map]\n",
        "    final_data.append(data)\n",
        "labels = ['Place Name','Place ID','Latitude','Longitude','Rating','Types',\"Google Map\"]\n",
        "export_dataframe_1_medium = pd.DataFrame.from_records(final_data, columns=labels)\n",
        "export_dataframe_1_medium.to_csv('Dhaka_Restaurant.csv')\n",
        "df = pd.read_csv(\"/content/Dhaka_Restaurant.csv\",sep=\",\")\n",
        "df"
      ],
      "metadata": {
        "id": "FpX3o4Y6TO8P"
      },
      "execution_count": null,
      "outputs": []
    }
  ]
}